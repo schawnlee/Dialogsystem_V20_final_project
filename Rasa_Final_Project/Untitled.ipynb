{
 "cells": [
  {
   "cell_type": "code",
   "execution_count": 1,
   "metadata": {},
   "outputs": [],
   "source": [
    "#Class Room, to create a room with adjacent rooms\n",
    "class Room():\n",
    "    def __init__(self, room_name=\"AN EMPTY ROOM\", doors = []):\n",
    "        self.room_name = room_name\n",
    "        self.doors = doors\n",
    "        \n",
    "    def get_doors(self):\n",
    "        return self.doors\n",
    "    \n",
    "    def get_name(self):\n",
    "        return self.room_name\n"
   ]
  },
  {
   "cell_type": "code",
   "execution_count": 2,
   "metadata": {},
   "outputs": [],
   "source": [
    "map =  {\n",
    "    \n",
    "         \"OFFICE\": [None, None,None, \"MEETING ROOM\"],\n",
    "         \"MEETING ROOM\":[None, \"OFFICE\", \"LAB\", \"CAFE\"],\n",
    "         \"LAB\": [\"MEETING ROOM\", None, \"AUDITORIUM\", None],\n",
    "         \"AUDITORIUM\": [\"LAB\", None, \"EXIT\", None],\n",
    "         \"CAFE\": [None, \"MEETING\", None, \"EXIT\"]\n",
    "    \n",
    "        }\n",
    "\n",
    "mapping = {\"WEST\":0, \"NORTH\":1, \"EAST\":2, \"SOUTH\":3}\n",
    "    \n",
    "universe = []\n",
    "for room_name, doors in map.items():\n",
    "    room = Room(room_name, doors)\n",
    "    universe.append(room)"
   ]
  },
  {
   "cell_type": "code",
   "execution_count": 3,
   "metadata": {},
   "outputs": [],
   "source": [
    "def change_room(room_name, direction):\n",
    "    current_room = Room()\n",
    "    for room in universe:\n",
    "        if room_name == room.get_name():\n",
    "            current_room = room\n",
    "            i = mapping[direction]\n",
    "            return current_room.get_doors()[i]"
   ]
  },
  {
   "cell_type": "code",
   "execution_count": 4,
   "metadata": {},
   "outputs": [],
   "source": [
    "def main():\n",
    "    print(\"You are locked at FLOV! Try to get out\")\n",
    "    CURRENT_ROOM =\"LAB\"\n",
    "    DIRECTION = \"\"\n",
    "    \n",
    "    #create the universe\n",
    "    universe = []\n",
    "    for room_name, doors in map.items():\n",
    "        room = Room(room_name, doors)\n",
    "        universe.append(room)\n",
    "        \n",
    "    while CURRENT_ROOM != \"EXIT\":\n",
    "        DIRECTION = input()\n",
    "        CURRENT_ROOM = change_room(CURRENT_ROOM,DIRECTION)\n",
    "        print(\"You are in\")\n",
    "        print(CURRENT_ROOM)\n",
    "    print(\"You just get out!\")\n",
    "        \n",
    "            "
   ]
  },
  {
   "cell_type": "code",
   "execution_count": 7,
   "metadata": {},
   "outputs": [],
   "source": [
    "import random"
   ]
  },
  {
   "cell_type": "code",
   "execution_count": 33,
   "metadata": {},
   "outputs": [],
   "source": [
    "foods = [\"SANDWICH\",\"BANANA\",\"CHOCKLADBAL\",\"NODDLE BOX\",\"CAFE\",\"ORANGE JUICE\",\"WATER\",\"COOKIES\", \"CINEMON BUN\"]"
   ]
  },
  {
   "cell_type": "code",
   "execution_count": 34,
   "metadata": {},
   "outputs": [],
   "source": [
    "food = random.choice(foods)"
   ]
  },
  {
   "cell_type": "code",
   "execution_count": 35,
   "metadata": {},
   "outputs": [
    {
     "data": {
      "text/plain": [
       "'ORANGE JUICE'"
      ]
     },
     "execution_count": 35,
     "metadata": {},
     "output_type": "execute_result"
    }
   ],
   "source": [
    "office"
   ]
  },
  {
   "cell_type": "code",
   "execution_count": 57,
   "metadata": {},
   "outputs": [
    {
     "name": "stdout",
     "output_type": "stream",
     "text": [
      "        * * * * * * \r\n",
      "         * * * * * \r\n",
      "          * * * * \r\n",
      "           * * * \r\n",
      "            * * \r\n",
      "             * \r\n"
     ]
    }
   ],
   "source": [
    "def pattern1(n):\n",
    "      k = 2*n -2\n",
    "      for i in range(n,-1,-1):\n",
    "           for j in range(k,0,-1):\n",
    "                print(end=\" \")\n",
    "           k = k +1\n",
    "           for j in range(0, i+1):\n",
    "                print(\"*\", end=\" \")\n",
    "           print(\"\\r\")\n",
    " \n",
    "pattern1(5)"
   ]
  },
  {
   "cell_type": "code",
   "execution_count": 59,
   "metadata": {},
   "outputs": [
    {
     "name": "stdout",
     "output_type": "stream",
     "text": [
      "* \r\n",
      "* * \r\n",
      "* * * \r\n",
      "* * * * \r\n",
      "* * * \r\n",
      "* * \r\n",
      "* \r\n",
      "* * \r\n",
      "* * * \r\n",
      "* * * * \r\n",
      "* * * \r\n",
      "* * \r\n"
     ]
    }
   ],
   "source": [
    "def pattern2(n):\n",
    "      for i in range(0, n):\n",
    "           for j in range(0, i + 1):\n",
    "                print(\"* \", end=\"\")\n",
    "           print(\"\\r\")\n",
    "      for i in range(n, 0 , -1):\n",
    "          for j in range(0, i + 1):\n",
    "               print(\"* \", end=\"\")\n",
    "          print(\"\\r\")\n",
    " \n",
    "pattern2(3)\n",
    "pattern2(3)\n"
   ]
  },
  {
   "cell_type": "code",
   "execution_count": 60,
   "metadata": {},
   "outputs": [
    {
     "name": "stdout",
     "output_type": "stream",
     "text": [
      "        * * * * * * \r\n",
      "         * * * * * \r\n",
      "          * * * * \r\n",
      "           * * * \r\n",
      "            * * \r\n",
      "             * \r\n",
      "        * * * * * * \r\n",
      "         * * * * * \r\n",
      "          * * * * \r\n",
      "           * * * \r\n",
      "            * * \r\n",
      "             * \r\n"
     ]
    }
   ],
   "source": [
    "path1 = [pattern1(5), pattern1(5)]"
   ]
  },
  {
   "cell_type": "code",
   "execution_count": 61,
   "metadata": {},
   "outputs": [
    {
     "name": "stdout",
     "output_type": "stream",
     "text": [
      "        * * * * * * \r\n",
      "         * * * * * \r\n",
      "          * * * * \r\n",
      "           * * * \r\n",
      "            * * \r\n",
      "             * \r\n",
      "* \r\n",
      "* * \r\n",
      "* * * \r\n",
      "* * * * \r\n",
      "* * * * * \r\n",
      "* * * * * * \r\n",
      "* * * * * \r\n",
      "* * * * \r\n",
      "* * * \r\n",
      "* * \r\n",
      "* \r\n",
      "* * \r\n",
      "* * * \r\n",
      "* * * * \r\n",
      "* * * * * \r\n",
      "* * * * * * \r\n",
      "* * * * * \r\n",
      "* * * * \r\n",
      "* * * \r\n",
      "* * \r\n"
     ]
    }
   ],
   "source": [
    "path1 = [pattern1(5), pattern2(5),pattern2(5)]"
   ]
  },
  {
   "cell_type": "code",
   "execution_count": 86,
   "metadata": {},
   "outputs": [],
   "source": [
    "def chance():\n",
    "    if random.random() < 0.2:\n",
    "        print(\"hi\")\n",
    "        "
   ]
  },
  {
   "cell_type": "code",
   "execution_count": 100,
   "metadata": {},
   "outputs": [
    {
     "name": "stdout",
     "output_type": "stream",
     "text": [
      "hi\n"
     ]
    }
   ],
   "source": [
    "chance()"
   ]
  },
  {
   "cell_type": "code",
   "execution_count": 109,
   "metadata": {},
   "outputs": [
    {
     "name": "stdout",
     "output_type": "stream",
     "text": [
      "        * * * * * * \r\n",
      "         * * * * * \r\n",
      "          * * * * \r\n",
      "           * * * \r\n",
      "            * * \r\n",
      "             * \r\n",
      "        * * * * * * \r\n",
      "         * * * * * \r\n",
      "          * * * * \r\n",
      "           * * * \r\n",
      "            * * \r\n",
      "             * \r\n",
      "        * * * * * * \r\n",
      "         * * * * * \r\n",
      "          * * * * \r\n",
      "           * * * \r\n",
      "            * * \r\n",
      "             * \r\n",
      "* \r\n",
      "* * \r\n",
      "* * * \r\n",
      "* * * * \r\n",
      "* * * * * \r\n",
      "* * * * * * \r\n",
      "* * * * * \r\n",
      "* * * * \r\n",
      "* * * \r\n",
      "* * \r\n",
      "* \r\n",
      "* * \r\n",
      "* * * \r\n",
      "* * * * \r\n",
      "* * * * * \r\n",
      "* * * * * * \r\n",
      "* * * * * \r\n",
      "* * * * \r\n",
      "* * * \r\n",
      "* * \r\n"
     ]
    }
   ],
   "source": [
    "def change_room(room_name, direction):\n",
    "    current_room = Room()\n",
    "    for room in universe:\n",
    "        if room_name == room.get_name():\n",
    "            current_room = room\n",
    "            i = mapping[direction]\n",
    "\n",
    "\n",
    "def office_event():\n",
    "    \n",
    "    paths = [\"\", path2]\n",
    "    path = random.choice(paths)\n",
    "    return path\n",
    "\n",
    "def cafe_event():\n",
    "    foods = [\"SANDWICH\", \"BANANA\", \"CHOCKLADBAL\", \"NODDLE BOX\", \"CAFE\", \"ORANGE JUICE\", \"WATER\", \"COOKIES\",\n",
    "             \"CINEMON BUN\"]\n",
    "    \n",
    "    text = \"You found some {}\".format(random.choice(foods)) + \"and took it, since you are thirsty and hungry, and you feel better!\"\n",
    "    return text\n",
    "    \n",
    "def event_scary():\n",
    "    events = [\"The light went suddenly out, it is completely dark\", \"These is some weird noise...\", \"You want to get out\", \"You are tired\",\"You are missing your firends\",\n",
    "              \"You promise your self not ever to oversleep\"]\n",
    "    text = random.choice(events)\n",
    "    return text\n"
   ]
  },
  {
   "cell_type": "code",
   "execution_count": 111,
   "metadata": {},
   "outputs": [
    {
     "data": {
      "text/plain": [
       "[[None, None], [None, None, None]]"
      ]
     },
     "execution_count": 111,
     "metadata": {},
     "output_type": "execute_result"
    }
   ],
   "source": [
    "paths"
   ]
  },
  {
   "cell_type": "code",
   "execution_count": 157,
   "metadata": {},
   "outputs": [],
   "source": [
    "def office_event():\n",
    "    paths = [\"U+23EC\", \"U+21AA\"]\n",
    "    path = random.choice(paths)\n",
    "    text = \"Oh! This is Vlad's office, you find a emergency plan and it reads despite the bad light {}\".format(path)\n",
    "    return text\n",
    "\n",
    "def cafe_event():\n",
    "    foods = [\"SANDWICH\", \"BANANA\", \"CHOCKLADBAL\", \"NODDLE BOX\", \"CAFE\", \"ORANGE JUICE\", \"WATER\", \"COOKIES\",\n",
    "             \"CINEMON BUN\"]\n",
    "\n",
    "    text = \"You found some {}\".format(random.choice(foods)) + \" and took it, since you are thirsty and hungry, and you feel better!\"\n",
    "    return text\n",
    "\n",
    "def event_scary():\n",
    "    events = [\"The light went suddenly out, it is completely dark\", \"These is some weird noise...\", \"You want to get out\", \"You are tired\",\"You are missing your firends\",\n",
    "              \"You promise your self not ever to oversleep\"]\n",
    "    text = random.choice(events)\n",
    "    return text"
   ]
  },
  {
   "cell_type": "code",
   "execution_count": 190,
   "metadata": {},
   "outputs": [],
   "source": [
    "events = {\"OFFICE\": office_event(),\"CAFE\": cafe_event(), \"LAB\": event_scary(), \"AUDIMAX\": event_scary(), \"MEETING\": event_scary()}"
   ]
  },
  {
   "cell_type": "code",
   "execution_count": 162,
   "metadata": {},
   "outputs": [
    {
     "data": {
      "text/plain": [
       "\"Oh! This is Vlad's office, you find a emergency plan and it reads despite the bad light U+21AA\""
      ]
     },
     "execution_count": 162,
     "metadata": {},
     "output_type": "execute_result"
    }
   ],
   "source": [
    "events[\"OFFICE\"]"
   ]
  },
  {
   "cell_type": "code",
   "execution_count": 189,
   "metadata": {},
   "outputs": [
    {
     "data": {
      "text/plain": [
       "'You found some CAFE and took it, since you are thirsty and hungry, and you feel better!'"
      ]
     },
     "execution_count": 189,
     "metadata": {},
     "output_type": "execute_result"
    }
   ],
   "source": [
    "events[\"CAFE\"]"
   ]
  },
  {
   "cell_type": "code",
   "execution_count": 191,
   "metadata": {},
   "outputs": [],
   "source": [
    "def event(room):\n",
    "    if random.random() < 1:\n",
    "        events[room]"
   ]
  },
  {
   "cell_type": "code",
   "execution_count": 224,
   "metadata": {},
   "outputs": [
    {
     "data": {
      "text/plain": [
       "'You are tired'"
      ]
     },
     "execution_count": 224,
     "metadata": {},
     "output_type": "execute_result"
    }
   ],
   "source": []
  },
  {
   "cell_type": "code",
   "execution_count": 226,
   "metadata": {},
   "outputs": [
    {
     "data": {
      "text/plain": [
       "'You are missing your firends'"
      ]
     },
     "execution_count": 226,
     "metadata": {},
     "output_type": "execute_result"
    }
   ],
   "source": [
    "event_scary()"
   ]
  },
  {
   "cell_type": "code",
   "execution_count": null,
   "metadata": {},
   "outputs": [],
   "source": []
  }
 ],
 "metadata": {
  "kernelspec": {
   "display_name": "Python 3",
   "language": "python",
   "name": "python3"
  },
  "language_info": {
   "codemirror_mode": {
    "name": "ipython",
    "version": 3
   },
   "file_extension": ".py",
   "mimetype": "text/x-python",
   "name": "python",
   "nbconvert_exporter": "python",
   "pygments_lexer": "ipython3",
   "version": "3.7.4"
  }
 },
 "nbformat": 4,
 "nbformat_minor": 2
}
